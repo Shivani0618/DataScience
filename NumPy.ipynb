{
 "cells": [
  {
   "cell_type": "code",
   "execution_count": 4,
   "id": "a59ba944-3c3b-45ce-908d-11768f69b909",
   "metadata": {},
   "outputs": [],
   "source": [
    "import numpy as np"
   ]
  },
  {
   "cell_type": "code",
   "execution_count": 5,
   "id": "91896b44-4986-4651-91fb-e7403c5a2186",
   "metadata": {},
   "outputs": [
    {
     "data": {
      "text/plain": [
       "array([ 8, 11, 13,  8])"
      ]
     },
     "execution_count": 5,
     "metadata": {},
     "output_type": "execute_result"
    }
   ],
   "source": [
    "list1=[2,3,4,5]\n",
    "list2=[6,8,9,3]\n",
    "np.array(list1)+np.array(list2)"
   ]
  },
  {
   "cell_type": "code",
   "execution_count": 6,
   "id": "2eb5d03b-faeb-40be-96a7-0dc295bf560e",
   "metadata": {},
   "outputs": [
    {
     "name": "stdout",
     "output_type": "stream",
     "text": [
      "<class 'list'>\n",
      "<class 'tuple'>\n"
     ]
    }
   ],
   "source": [
    "arr_str=['Mercedes',6,'audi','feraari','tesla']\n",
    "arr_num=(3,6,7,4,3)\n",
    "print(type(arr_str))\n",
    "print(type(arr_num))"
   ]
  },
  {
   "cell_type": "code",
   "execution_count": 7,
   "id": "ef66865e-3ec8-4801-ad0c-b76b85b53b92",
   "metadata": {},
   "outputs": [
    {
     "name": "stdout",
     "output_type": "stream",
     "text": [
      "['Mercedes' '6' 'audi' 'feraari' 'tesla']\n",
      "[3 6 7 4 3]\n"
     ]
    }
   ],
   "source": [
    "np_arr_str=np.array(arr_str)\n",
    "np_arr_num=np.array(arr_num)\n",
    "print(np_arr_str)\n",
    "print(np_arr_num)"
   ]
  },
  {
   "cell_type": "code",
   "execution_count": 8,
   "id": "9af6f094-4c42-4149-b54f-366df0cc3049",
   "metadata": {},
   "outputs": [],
   "source": [
    "#NumPy matrix"
   ]
  },
  {
   "cell_type": "code",
   "execution_count": 9,
   "id": "41eb0c39-30d3-449e-a6cf-9338c517f663",
   "metadata": {},
   "outputs": [
    {
     "data": {
      "text/plain": [
       "array([[1, 2],\n",
       "       [3, 4],\n",
       "       [5, 6]])"
      ]
     },
     "execution_count": 9,
     "metadata": {},
     "output_type": "execute_result"
    }
   ],
   "source": [
    "matrix1=np.array([(1,2),(3,4),(5,6)])\n",
    "matrix1"
   ]
  },
  {
   "cell_type": "code",
   "execution_count": 10,
   "id": "38556099-b8a7-43a4-863f-a618f9085c1d",
   "metadata": {},
   "outputs": [
    {
     "data": {
      "text/plain": [
       "(3, 2)"
      ]
     },
     "execution_count": 10,
     "metadata": {},
     "output_type": "execute_result"
    }
   ],
   "source": [
    "matrix1.shape"
   ]
  },
  {
   "cell_type": "code",
   "execution_count": 11,
   "id": "224b4cf2-463e-4108-90fd-2ed2a710743d",
   "metadata": {},
   "outputs": [],
   "source": [
    "#functions to create NumPy array\n",
    "#using np.arange() function"
   ]
  },
  {
   "cell_type": "code",
   "execution_count": 12,
   "id": "955f783e-7094-4129-b4c0-662f482cdb71",
   "metadata": {},
   "outputs": [
    {
     "name": "stdout",
     "output_type": "stream",
     "text": [
      "[0 2 4 6 8]\n"
     ]
    }
   ],
   "source": [
    "arr2= np.arange(0,10,2)\n",
    "print(arr2)"
   ]
  },
  {
   "cell_type": "code",
   "execution_count": 13,
   "id": "c7fecab7-f375-4a42-9925-da9804142097",
   "metadata": {},
   "outputs": [],
   "source": [
    "#using np.zeros()"
   ]
  },
  {
   "cell_type": "code",
   "execution_count": 14,
   "id": "02aa7716-383a-45a4-a214-4d0f2ce7dd2b",
   "metadata": {},
   "outputs": [
    {
     "data": {
      "text/plain": [
       "array([0., 0., 0.])"
      ]
     },
     "execution_count": 14,
     "metadata": {},
     "output_type": "execute_result"
    }
   ],
   "source": [
    "np.zeros(3)"
   ]
  },
  {
   "cell_type": "code",
   "execution_count": 15,
   "id": "a41fd165-34a2-4f71-af04-8a60b7a4dc6a",
   "metadata": {},
   "outputs": [
    {
     "data": {
      "text/plain": [
       "array([ 0,  1,  2,  3,  4,  5,  6,  7,  8,  9, 10, 11, 12, 13, 14, 15, 16,\n",
       "       17, 18, 19, 20, 21, 22, 23, 24, 25, 26, 27, 28, 29])"
      ]
     },
     "execution_count": 15,
     "metadata": {},
     "output_type": "execute_result"
    }
   ],
   "source": [
    "arr=np.arange(0,30)\n",
    "arr"
   ]
  },
  {
   "cell_type": "code",
   "execution_count": 16,
   "id": "bf92e6f1-04ab-47cb-b13e-b6baea833a7b",
   "metadata": {},
   "outputs": [
    {
     "data": {
      "text/plain": [
       "array([[ 0,  1,  2,  3,  4,  5],\n",
       "       [ 6,  7,  8,  9, 10, 11],\n",
       "       [12, 13, 14, 15, 16, 17],\n",
       "       [18, 19, 20, 21, 22, 23],\n",
       "       [24, 25, 26, 27, 28, 29]])"
      ]
     },
     "execution_count": 16,
     "metadata": {},
     "output_type": "execute_result"
    }
   ],
   "source": [
    "arr.reshape(5,6)"
   ]
  },
  {
   "cell_type": "code",
   "execution_count": 51,
   "id": "12878237-19f5-4757-85f4-20385d129557",
   "metadata": {},
   "outputs": [
    {
     "name": "stdout",
     "output_type": "stream",
     "text": [
      "Sine Function: -0.9880316240928618\n",
      "Cosine Function: -0.9524129804151563\n",
      "Tan Function: 0.0\n"
     ]
    }
   ],
   "source": [
    "#trigonometric_function\n",
    "print('Sine Function:',np.sin(30))\n",
    "print('Cosine Function:',np.cos(60))\n",
    "print('Tan Function:',np.tan(0))"
   ]
  },
  {
   "cell_type": "code",
   "execution_count": 53,
   "id": "760f47a6-ec6a-4db1-afd3-7bc24d5107cc",
   "metadata": {},
   "outputs": [
    {
     "data": {
      "text/plain": [
       "7.38905609893065"
      ]
     },
     "execution_count": 53,
     "metadata": {},
     "output_type": "execute_result"
    }
   ],
   "source": [
    "#exponents and logarithmic functions\n",
    "np.exp(2)"
   ]
  },
  {
   "cell_type": "code",
   "execution_count": 55,
   "id": "3a68cc0f-3e7f-4b3e-aa30-f929f030bf0e",
   "metadata": {},
   "outputs": [
    {
     "data": {
      "text/plain": [
       "array([  7.3890561 ,  54.59815003, 403.42879349])"
      ]
     },
     "execution_count": 55,
     "metadata": {},
     "output_type": "execute_result"
    }
   ],
   "source": [
    "arr1 = np.array([2,4,6])\n",
    "np.exp(arr1)"
   ]
  },
  {
   "cell_type": "code",
   "execution_count": 67,
   "id": "215d7d73-1c9c-42a0-97a1-666e534c23aa",
   "metadata": {},
   "outputs": [
    {
     "name": "stdout",
     "output_type": "stream",
     "text": [
      "0.6931471805599453\n",
      "3.0\n"
     ]
    }
   ],
   "source": [
    "print(np.log(2))\n",
    "print(np.log10(1000))"
   ]
  },
  {
   "cell_type": "code",
   "execution_count": 85,
   "id": "cbb13abf-d09b-4242-b54b-6a6acc839e55",
   "metadata": {},
   "outputs": [
    {
     "name": "stdout",
     "output_type": "stream",
     "text": [
      "[ 5  7  9 11 13]\n",
      "[-3 -3 -3 -3 -3]\n",
      "[ 4 10 18 28 40]\n",
      "[0.25       0.4        0.5        0.57142857 0.625     ]\n",
      "[1.         0.5        0.33333333 0.25       0.2       ]\n",
      "[     1     32    729  16384 390625]\n"
     ]
    }
   ],
   "source": [
    "#arithmetic_operations\n",
    "arr1=np.array([1,2,3,4,5])\n",
    "arr2=np.array([4,5,6,7,8])\n",
    "print(arr1+arr2)\n",
    "print(arr1-arr2)\n",
    "print(arr1*arr2)\n",
    "print(arr1/arr2)\n",
    "print(1/arr1)\n",
    "print(arr1**arr2)"
   ]
  },
  {
   "cell_type": "code",
   "execution_count": 97,
   "id": "bf375577-6924-48f1-b1b3-e0655c8e4bdd",
   "metadata": {},
   "outputs": [
    {
     "name": "stdout",
     "output_type": "stream",
     "text": [
      "[[1 2 3]\n",
      " [4 5 6]\n",
      " [7 8 9]]\n",
      "[[1. 0. 0.]\n",
      " [0. 1. 0.]\n",
      " [0. 0. 1.]]\n",
      "[[1. 0. 0.]\n",
      " [0. 5. 0.]\n",
      " [0. 0. 9.]]\n"
     ]
    }
   ],
   "source": [
    "#operations on matrices\n",
    "matrix=np.arange(1,10).reshape(3,3)\n",
    "print(matrix)\n",
    "matrix1=np.eye(3)\n",
    "print(matrix1)\n",
    "print(matrix*matrix1)"
   ]
  },
  {
   "cell_type": "code",
   "execution_count": 105,
   "id": "aa2d2ff2-a7af-425d-9b7d-2516058798ca",
   "metadata": {},
   "outputs": [
    {
     "name": "stdout",
     "output_type": "stream",
     "text": [
      "[[ 5  7  9]\n",
      " [11 13 15]\n",
      " [17 19 21]]\n",
      "\t\n",
      "[[-3 -3 -3]\n",
      " [-3 -3 -3]\n",
      " [-3 -3 -3]]\n",
      "\t\n",
      "[[  4  10  18]\n",
      " [ 28  40  54]\n",
      " [ 70  88 108]]\n",
      "\t\n",
      "[[0.25       0.4        0.5       ]\n",
      " [0.57142857 0.625      0.66666667]\n",
      " [0.7        0.72727273 0.75      ]]\n",
      "\n",
      "\n",
      "[[ 48  54  60]\n",
      " [111 126 141]\n",
      " [174 198 222]]\n"
     ]
    }
   ],
   "source": [
    "mat=np.arange(1,10).reshape(3,3)\n",
    "mat1=np.arange(4,13).reshape(3,3)\n",
    "print(mat+mat1)\n",
    "print('\\t')\n",
    "print(mat-mat1)\n",
    "print('\\t')\n",
    "print(mat*mat1)\n",
    "print('\\t')\n",
    "print(mat/mat1)\n",
    "print('\\n')\n",
    "print(mat@mat1)  #for dot product"
   ]
  },
  {
   "cell_type": "code",
   "execution_count": 107,
   "id": "03d624e1-8ef8-488c-b121-22a17057796a",
   "metadata": {},
   "outputs": [
    {
     "data": {
      "text/plain": [
       "array([[ 48,  54,  60],\n",
       "       [111, 126, 141],\n",
       "       [174, 198, 222]])"
      ]
     },
     "execution_count": 107,
     "metadata": {},
     "output_type": "execute_result"
    }
   ],
   "source": [
    "np.linalg.multi_dot([mat,mat1]) #for dot product"
   ]
  },
  {
   "cell_type": "code",
   "execution_count": 119,
   "id": "bf9c06e2-f953-40e7-93f6-aafe2aaae827",
   "metadata": {},
   "outputs": [
    {
     "name": "stdout",
     "output_type": "stream",
     "text": [
      "x= [26.25]\n",
      "y= [-13.75]\n",
      "z= [3.75]\n"
     ]
    }
   ],
   "source": [
    "# x+2y+3z=10\n",
    "# 2x+3y+z=15\n",
    "# x+y+2z=20\n",
    "m1=np.array([1,2,3,2,3,1,1,1,2]).reshape(3,3)\n",
    "m2=np.array([10,15,20]).reshape(3,1)\n",
    "#m3=np.array([x,y,z]).reshape(3,1)\n",
    "x,y,z=np.linalg.solve(m1,m2)\n",
    "print('x=',x)\n",
    "print('y=',y)\n",
    "print('z=',z)"
   ]
  },
  {
   "cell_type": "code",
   "execution_count": 129,
   "id": "bb84b5ac-3b22-4996-8a39-b598e22a25f9",
   "metadata": {},
   "outputs": [
    {
     "name": "stdout",
     "output_type": "stream",
     "text": [
      "[[1 2 3]\n",
      " [2 3 1]\n",
      " [1 1 2]]\n"
     ]
    },
    {
     "data": {
      "text/plain": [
       "array([[1, 2, 1],\n",
       "       [2, 3, 1],\n",
       "       [3, 1, 2]])"
      ]
     },
     "execution_count": 129,
     "metadata": {},
     "output_type": "execute_result"
    }
   ],
   "source": [
    "#transpose\n",
    "m1=np.array([1,2,3,2,3,1,1,1,2]).reshape(3,3)\n",
    "print(m1)\n",
    "np.transpose(m1)\n",
    "#or_use : m1.T"
   ]
  },
  {
   "cell_type": "code",
   "execution_count": 143,
   "id": "7eba8d97-00bb-4a92-a9ab-a058166370d7",
   "metadata": {},
   "outputs": [
    {
     "name": "stdout",
     "output_type": "stream",
     "text": [
      "3\n",
      "1\n",
      "16\n"
     ]
    }
   ],
   "source": [
    "print(np.max(m1))\n",
    "print(np.min(m1))\n",
    "print(np.sum(m1))"
   ]
  },
  {
   "cell_type": "code",
   "execution_count": 209,
   "id": "3f216426-c45f-42c8-8263-a90829e7e63a",
   "metadata": {},
   "outputs": [
    {
     "name": "stdout",
     "output_type": "stream",
     "text": [
      "[[0.12949805 0.16164642 0.88530807 0.26722863 0.07632794]\n",
      " [0.10308182 0.63983632 0.37383547 0.21085354 0.07442346]\n",
      " [0.31599596 0.82570758 0.73785995 0.55959207 0.69409471]\n",
      " [0.4620292  0.98246031 0.31555212 0.6801045  0.69636162]\n",
      " [0.19787176 0.95618244 0.90864455 0.04937842 0.26889984]]\n"
     ]
    }
   ],
   "source": [
    "#producing random numbers\n",
    "rand_mat = np.random.rand(5,5)\n",
    "print(rand_mat)"
   ]
  },
  {
   "cell_type": "code",
   "execution_count": 211,
   "id": "9c4b9f92-b2c7-42be-b0ed-7ecc2a79ebfa",
   "metadata": {},
   "outputs": [
    {
     "name": "stdout",
     "output_type": "stream",
     "text": [
      "[0.01097498 0.30463236 0.69799932 0.92368632 0.19998961 0.80684027\n",
      " 0.25964899 0.35761459 0.48602767 0.68614311 0.18269096 0.96028761\n",
      " 0.76919426 0.31569457 0.79952415 0.81125063 0.851987   0.05129215\n",
      " 0.21303644 0.23600846 0.54843204 0.52176409 0.93592342 0.1910734\n",
      " 0.24456868 0.07817134 0.22257071 0.74010621 0.54052944 0.29679654]\n",
      "\t\n",
      "0.47481531032506086\n",
      "0.2924558850161549\n"
     ]
    }
   ],
   "source": [
    "matrix = np.random.rand(30)\n",
    "print(matrix)\n",
    "print('\\t')\n",
    "print(np.mean(matrix))\n",
    "print(np.std(matrix))"
   ]
  },
  {
   "cell_type": "code",
   "execution_count": 221,
   "id": "d47da14b-2dcd-43df-bca4-ba679064f67d",
   "metadata": {},
   "outputs": [
    {
     "name": "stdout",
     "output_type": "stream",
     "text": [
      "[5 3 2 5 3 2 2 4 3 3]\n",
      "[[2]\n",
      " [4]\n",
      " [5]\n",
      " [3]\n",
      " [3]]\n"
     ]
    }
   ],
   "source": [
    "mat1= np.random.randint(2,6,10) #(low, high, size)\n",
    "print(mat1)\n",
    "mat2= np.random.randint(2,6,[5,1])\n",
    "print(mat2)"
   ]
  },
  {
   "cell_type": "code",
   "execution_count": 223,
   "id": "c3e3576f-7bca-4e31-a907-d16f42d262d5",
   "metadata": {},
   "outputs": [
    {
     "data": {
      "text/plain": [
       "array([ True, False, False,  True, False, False, False,  True, False,\n",
       "       False])"
      ]
     },
     "execution_count": 223,
     "metadata": {},
     "output_type": "execute_result"
    }
   ],
   "source": [
    "mat1>3"
   ]
  },
  {
   "cell_type": "code",
   "execution_count": 227,
   "id": "52458f6e-6aed-40a6-ad95-7f67151a2a31",
   "metadata": {},
   "outputs": [
    {
     "data": {
      "text/plain": [
       "array([5, 5, 4])"
      ]
     },
     "execution_count": 227,
     "metadata": {},
     "output_type": "execute_result"
    }
   ],
   "source": [
    "mat1[mat1>3]"
   ]
  },
  {
   "cell_type": "code",
   "execution_count": 243,
   "id": "3f95b3f5-36af-4a8b-99a2-36a9812b191d",
   "metadata": {},
   "outputs": [
    {
     "name": "stdout",
     "output_type": "stream",
     "text": [
      "[[21  5 21  7 19]\n",
      " [20  5 14 28 27]\n",
      " [14 25  1 23 28]\n",
      " [20 22 23 25 16]\n",
      " [18  2 26 11  3]]\n",
      "[[ 5 14 28]\n",
      " [25  1 23]\n",
      " [22 23 25]]\n"
     ]
    }
   ],
   "source": [
    "#creating sub matrix\n",
    "matrix=np.random.randint(1,30,[5,5])\n",
    "print(matrix)\n",
    "print(matrix[1:4,1:4]) #extracting second row-second column to fourth row-fourth column"
   ]
  },
  {
   "cell_type": "code",
   "execution_count": null,
   "id": "8175e474-05e6-4505-b909-509becaf4600",
   "metadata": {},
   "outputs": [],
   "source": []
  },
  {
   "cell_type": "code",
   "execution_count": null,
   "id": "b9c2ea08-361c-4ef3-a59f-a0f457fe78b9",
   "metadata": {},
   "outputs": [],
   "source": []
  },
  {
   "cell_type": "code",
   "execution_count": null,
   "id": "19018f21-21ab-4fcc-a32f-2ea61e29cd26",
   "metadata": {},
   "outputs": [],
   "source": []
  },
  {
   "cell_type": "code",
   "execution_count": null,
   "id": "a474699b-87bd-4e73-9576-12faf4c1b43b",
   "metadata": {},
   "outputs": [],
   "source": []
  },
  {
   "cell_type": "code",
   "execution_count": null,
   "id": "0aaeb138-b452-4365-b007-f7892dc5e515",
   "metadata": {},
   "outputs": [],
   "source": []
  },
  {
   "cell_type": "code",
   "execution_count": null,
   "id": "e27c3526-1030-4243-a1ef-e3e6556cb4cb",
   "metadata": {},
   "outputs": [],
   "source": []
  },
  {
   "cell_type": "code",
   "execution_count": null,
   "id": "c25f1aeb-e71b-421d-9e97-f2b692189f7b",
   "metadata": {},
   "outputs": [],
   "source": []
  },
  {
   "cell_type": "code",
   "execution_count": null,
   "id": "8f5c6f79-2b62-4580-be0a-7e0b675f4433",
   "metadata": {},
   "outputs": [],
   "source": []
  }
 ],
 "metadata": {
  "kernelspec": {
   "display_name": "Python [conda env:base] *",
   "language": "python",
   "name": "conda-base-py"
  },
  "language_info": {
   "codemirror_mode": {
    "name": "ipython",
    "version": 3
   },
   "file_extension": ".py",
   "mimetype": "text/x-python",
   "name": "python",
   "nbconvert_exporter": "python",
   "pygments_lexer": "ipython3",
   "version": "3.12.7"
  }
 },
 "nbformat": 4,
 "nbformat_minor": 5
}
