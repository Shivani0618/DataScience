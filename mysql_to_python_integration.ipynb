{
 "cells": [
  {
   "cell_type": "code",
   "execution_count": 2,
   "id": "43907a82-305e-4e38-ab97-8468578c0a8e",
   "metadata": {},
   "outputs": [
    {
     "name": "stdout",
     "output_type": "stream",
     "text": [
      "Requirement already satisfied: pymysql in /opt/anaconda3/lib/python3.12/site-packages (1.1.1)\n"
     ]
    }
   ],
   "source": [
    "!pip install pymysql"
   ]
  },
  {
   "cell_type": "code",
   "execution_count": 8,
   "id": "d362c9de-d0aa-4be8-a001-cb84c477c211",
   "metadata": {},
   "outputs": [],
   "source": [
    "import pymysql\n",
    "import pandas as pd\n",
    "#connect to MySQL database\n",
    "connection= pymysql.connect(\n",
    "    host=\"localhost\", #replace with your host\n",
    "    user=\"root\", #replace with your username\n",
    "    password=\"shivanid\", #replace with your password\n",
    "    database=\"SQL_EXERCISES\" #replace with your database name\n",
    ")\n",
    "cursor= connection.cursor()"
   ]
  },
  {
   "cell_type": "code",
   "execution_count": 10,
   "id": "02d34efa-dcdf-463a-95b5-506da9ef3e59",
   "metadata": {},
   "outputs": [],
   "source": [
    "#pymysql.connect(): This method establishes a connection to the MySQL database using the provided details. \n",
    "#It takes the following parameters [host, user, password, database]\n",
    "# connection.cursor(): This creates a cursor object, which is used to interact with the database. \n",
    "#A cursor allows you to execute SQL queries, fetch results, and manage database transactions. \n",
    "#It acts as a pointer that moves through the data returned by the queries."
   ]
  },
  {
   "cell_type": "code",
   "execution_count": 12,
   "id": "86d8beb1-d6f5-4559-8c71-a56b19170f10",
   "metadata": {},
   "outputs": [],
   "source": [
    "select_query= \"\"\"SELECT E_ID, E_NAME, E_ADDRESS, E_SALARY, H_YEAR\n",
    "FROM EMPLOYEES\"\"\"\n",
    "cursor.execute(select_query)\n",
    "rows = cursor.fetchall()\n",
    "df=pd.DataFrame(rows,columns=['E_ID', 'E_NAME', 'E_ADDRESS', 'E_SALARY', 'H_YEAR'])"
   ]
  },
  {
   "cell_type": "code",
   "execution_count": 14,
   "id": "386e65df-79f5-41de-a98d-52fe3a6bd123",
   "metadata": {},
   "outputs": [
    {
     "data": {
      "text/html": [
       "<div>\n",
       "<style scoped>\n",
       "    .dataframe tbody tr th:only-of-type {\n",
       "        vertical-align: middle;\n",
       "    }\n",
       "\n",
       "    .dataframe tbody tr th {\n",
       "        vertical-align: top;\n",
       "    }\n",
       "\n",
       "    .dataframe thead th {\n",
       "        text-align: right;\n",
       "    }\n",
       "</style>\n",
       "<table border=\"1\" class=\"dataframe\">\n",
       "  <thead>\n",
       "    <tr style=\"text-align: right;\">\n",
       "      <th></th>\n",
       "      <th>E_ID</th>\n",
       "      <th>E_NAME</th>\n",
       "      <th>E_ADDRESS</th>\n",
       "      <th>E_SALARY</th>\n",
       "      <th>H_YEAR</th>\n",
       "    </tr>\n",
       "  </thead>\n",
       "  <tbody>\n",
       "    <tr>\n",
       "      <th>0</th>\n",
       "      <td>1</td>\n",
       "      <td>SHIVANI</td>\n",
       "      <td>MEERUT</td>\n",
       "      <td>60000</td>\n",
       "      <td>2015</td>\n",
       "    </tr>\n",
       "    <tr>\n",
       "      <th>1</th>\n",
       "      <td>2</td>\n",
       "      <td>ARPITA</td>\n",
       "      <td>GAZIABAD</td>\n",
       "      <td>60000</td>\n",
       "      <td>2016</td>\n",
       "    </tr>\n",
       "    <tr>\n",
       "      <th>2</th>\n",
       "      <td>3</td>\n",
       "      <td>RAJ</td>\n",
       "      <td>MEERUT</td>\n",
       "      <td>55000</td>\n",
       "      <td>2017</td>\n",
       "    </tr>\n",
       "    <tr>\n",
       "      <th>3</th>\n",
       "      <td>4</td>\n",
       "      <td>SHREYANSH</td>\n",
       "      <td>LUCKNOW</td>\n",
       "      <td>65000</td>\n",
       "      <td>2015</td>\n",
       "    </tr>\n",
       "  </tbody>\n",
       "</table>\n",
       "</div>"
      ],
      "text/plain": [
       "   E_ID     E_NAME E_ADDRESS  E_SALARY  H_YEAR\n",
       "0     1    SHIVANI    MEERUT     60000    2015\n",
       "1     2     ARPITA  GAZIABAD     60000    2016\n",
       "2     3        RAJ    MEERUT     55000    2017\n",
       "3     4  SHREYANSH   LUCKNOW     65000    2015"
      ]
     },
     "execution_count": 14,
     "metadata": {},
     "output_type": "execute_result"
    }
   ],
   "source": [
    "df.head()"
   ]
  },
  {
   "cell_type": "code",
   "execution_count": 16,
   "id": "dabce4d6-ed33-4dd8-a45d-dce9167b0a6d",
   "metadata": {},
   "outputs": [
    {
     "name": "stdout",
     "output_type": "stream",
     "text": [
      "   E_ID     E_NAME E_ADDRESS  E_SALARY  H_YEAR\n",
      "0     1    SHIVANI    MEERUT     66000    2015\n",
      "1     2     ARPITA  GAZIABAD     66000    2016\n",
      "2     3        RAJ    MEERUT     60500    2017\n",
      "3     4  SHREYANSH   LUCKNOW     71500    2015\n"
     ]
    }
   ],
   "source": [
    "extract_query= 'SELECT E_ID, E_SALARY FROM EMPLOYEES'\n",
    "cursor.execute(extract_query)\n",
    "EMPLOYEES = cursor.fetchall()\n",
    "updated_salary= [(E_SALARY*1.10, E_ID) for E_ID, E_SALARY in EMPLOYEES]\n",
    "update_query= 'UPDATE EMPLOYEES SET E_SALARY=%s WHERE E_ID=%s'\n",
    "cursor.executemany(update_query, updated_salary)\n",
    "cursor.execute(select_query)\n",
    "rows = cursor.fetchall()\n",
    "df=pd.DataFrame(rows,columns=['E_ID', 'E_NAME', 'E_ADDRESS', 'E_SALARY', 'H_YEAR'])\n",
    "print(df)"
   ]
  },
  {
   "cell_type": "code",
   "execution_count": 22,
   "id": "89e73c4b-e9ee-4f59-8124-4e73876ec60e",
   "metadata": {},
   "outputs": [
    {
     "name": "stdout",
     "output_type": "stream",
     "text": [
      "('information_schema',)\n",
      "('mysql',)\n",
      "('performance_schema',)\n",
      "('SEM_4',)\n",
      "('SQL_EXERCISES',)\n",
      "('sys',)\n"
     ]
    }
   ],
   "source": [
    "# Show available databases\n",
    "cursor.execute(\"SHOW DATABASES\")\n",
    "\n",
    "for db in cursor:\n",
    "    print(db)"
   ]
  },
  {
   "cell_type": "code",
   "execution_count": 24,
   "id": "efe5ebdf-ce49-4ad6-953a-e860914a62d1",
   "metadata": {},
   "outputs": [
    {
     "name": "stdout",
     "output_type": "stream",
     "text": [
      "Database 'HR' created successfully!\n"
     ]
    }
   ],
   "source": [
    "cursor.execute(\"CREATE DATABASE HR\")\n",
    "print(\"Database 'HR' created successfully!\")"
   ]
  },
  {
   "cell_type": "code",
   "execution_count": null,
   "id": "c8a9bf5c-3bac-45a2-b4ee-646e96f666a0",
   "metadata": {},
   "outputs": [],
   "source": []
  },
  {
   "cell_type": "code",
   "execution_count": null,
   "id": "5ebf5ec2-2852-453b-85d1-42093aeb5324",
   "metadata": {},
   "outputs": [],
   "source": []
  },
  {
   "cell_type": "code",
   "execution_count": null,
   "id": "c3e67e5f-a35b-4c4e-a668-943526d9eb35",
   "metadata": {},
   "outputs": [],
   "source": []
  },
  {
   "cell_type": "code",
   "execution_count": null,
   "id": "22ca82da-f096-4aa4-81be-88db5c912352",
   "metadata": {},
   "outputs": [],
   "source": []
  }
 ],
 "metadata": {
  "kernelspec": {
   "display_name": "Python [conda env:base] *",
   "language": "python",
   "name": "conda-base-py"
  },
  "language_info": {
   "codemirror_mode": {
    "name": "ipython",
    "version": 3
   },
   "file_extension": ".py",
   "mimetype": "text/x-python",
   "name": "python",
   "nbconvert_exporter": "python",
   "pygments_lexer": "ipython3",
   "version": "3.12.7"
  }
 },
 "nbformat": 4,
 "nbformat_minor": 5
}
