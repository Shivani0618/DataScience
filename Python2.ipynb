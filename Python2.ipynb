{
 "cells": [
  {
   "cell_type": "code",
   "execution_count": 6,
   "id": "fb4afefd-3ec9-4e34-ae70-a0b581feafef",
   "metadata": {},
   "outputs": [
    {
     "name": "stdin",
     "output_type": "stream",
     "text": [
      "Enter budget:  25000\n"
     ]
    },
    {
     "name": "stdout",
     "output_type": "stream",
     "text": [
      "no budget\n"
     ]
    }
   ],
   "source": [
    "budget= int(input(\"Enter budget: \"))\n",
    "if budget>=30000:\n",
    "    print(\"good to go\")\n",
    "else:\n",
    "    print(\"no budget\")"
   ]
  },
  {
   "cell_type": "code",
   "execution_count": 14,
   "id": "caf6e7df-5db6-44b9-823d-6648875a3429",
   "metadata": {},
   "outputs": [
    {
     "name": "stdin",
     "output_type": "stream",
     "text": [
      "Enter your storage:  64GB\n"
     ]
    },
    {
     "name": "stdout",
     "output_type": "stream",
     "text": [
      "price is 20000\n"
     ]
    }
   ],
   "source": [
    "storage= str(input(\"Enter your storage: \"))\n",
    "if storage=='32GB':\n",
    "    print(\"price is 15000\")\n",
    "elif storage=='64GB':\n",
    "    print(\"price is 20000\")\n",
    "elif storage=='128GB':\n",
    "    print(\"price is 30000\")\n",
    "elif storage=='256GB':\n",
    "    print(\"price is 40000\")\n",
    "else:\n",
    "    print(\"NA\")\n"
   ]
  },
  {
   "cell_type": "code",
   "execution_count": 20,
   "id": "6c8e67f3-e655-4307-84fc-bceae28c383e",
   "metadata": {},
   "outputs": [
    {
     "name": "stdin",
     "output_type": "stream",
     "text": [
      "enter first round score: 80\n"
     ]
    },
    {
     "name": "stdout",
     "output_type": "stream",
     "text": [
      "eligible for second round.\n"
     ]
    },
    {
     "name": "stdin",
     "output_type": "stream",
     "text": [
      "enter second round score: 70\n"
     ]
    },
    {
     "name": "stdout",
     "output_type": "stream",
     "text": [
      "eligible for third round.\n"
     ]
    },
    {
     "name": "stdin",
     "output_type": "stream",
     "text": [
      "enter third round score: 60\n"
     ]
    },
    {
     "name": "stdout",
     "output_type": "stream",
     "text": [
      "Selected\n"
     ]
    }
   ],
   "source": [
    "score1= int(input(\"enter first round score:\"))\n",
    "if score1 >= 80:\n",
    "    print(\"eligible for second round.\")\n",
    "\n",
    "    score2= int(input(\"enter second round score:\"))\n",
    "    if score1 >= 70:\n",
    "        print(\"eligible for third round.\")    \n",
    "        \n",
    "        score3= int(input(\"enter third round score:\"))\n",
    "        if score3 >= 60:\n",
    "            print(\"Selected\")\n",
    "        else:\n",
    "            print(\"next time.\")\n",
    "    else:\n",
    "        print(\"next time.\")\n",
    "else:\n",
    "    print(\"next time.\")"
   ]
  },
  {
   "cell_type": "code",
   "execution_count": 34,
   "id": "b8b82b03-5d5f-4352-b60b-8c2995712e67",
   "metadata": {},
   "outputs": [
    {
     "name": "stdin",
     "output_type": "stream",
     "text": [
      "Enter your marks: 90\n"
     ]
    },
    {
     "name": "stdout",
     "output_type": "stream",
     "text": [
      "group1\n"
     ]
    }
   ],
   "source": [
    "marks= int(input('Enter your marks:'))\n",
    "if marks>=80:\n",
    "    print('group1')\n",
    "elif marks>=60 and marks<80:\n",
    "    print('group2')\n",
    "elif marks>=40 and marks<60:\n",
    "    print('group3')\n",
    "else:\n",
    "    print('NA')"
   ]
  },
  {
   "cell_type": "code",
   "execution_count": 36,
   "id": "75534b2e-eb89-4686-ac60-fd43d2a72590",
   "metadata": {},
   "outputs": [
    {
     "name": "stdin",
     "output_type": "stream",
     "text": [
      "Username: admin\n",
      "enter password: 123\n"
     ]
    },
    {
     "name": "stdout",
     "output_type": "stream",
     "text": [
      "login failed\n"
     ]
    }
   ],
   "source": [
    "username= str(input('Username:'))\n",
    "if username == 'admin':\n",
    "    password= int(input('enter password:'))\n",
    "    if password == 12345:\n",
    "        print(\"login successful\")\n",
    "    else:\n",
    "        print('login failed')\n",
    "else:\n",
    "    print(\"invalid user\")"
   ]
  },
  {
   "cell_type": "code",
   "execution_count": 40,
   "id": "88a85607-d3c5-45b7-8ff9-4e2d60868013",
   "metadata": {},
   "outputs": [
    {
     "name": "stdout",
     "output_type": "stream",
     "text": [
      "price1=  38000.0\n",
      "price2=  36000.0\n",
      "price3=  34000.0\n",
      "price4=  32000.0\n"
     ]
    }
   ],
   "source": [
    "price=40000\n",
    "d1= 40000*(5/100)\n",
    "d2= 40000*(10/100)\n",
    "d3= 40000*(15/100)\n",
    "d4= 40000*(20/100)\n",
    "print(\"price1= \", 40000 - d1)\n",
    "print(\"price2= \",40000 - d2)\n",
    "print(\"price3= \",40000 - d3)\n",
    "print(\"price4= \",40000 - d4)"
   ]
  },
  {
   "cell_type": "code",
   "execution_count": 46,
   "id": "13be3083-dfe8-4d64-9e6b-60071cd6ad9c",
   "metadata": {},
   "outputs": [
    {
     "name": "stdout",
     "output_type": "stream",
     "text": [
      "for 5 discount is: 38000.0\n",
      "for 10 discount is: 36000.0\n",
      "for 15 discount is: 34000.0\n",
      "for 20 discount is: 32000.0\n"
     ]
    }
   ],
   "source": [
    "# for looping\n",
    "price=40000\n",
    "dis_amount=[5,10,15,20]\n",
    "for i in dis_amount:\n",
    "    discounted=price*(i/100)\n",
    "    final= price- discounted\n",
    "    print(\"for\", i ,\"discount is:\",final)"
   ]
  },
  {
   "cell_type": "code",
   "execution_count": null,
   "id": "a30f4d6c-d8ea-4d56-94f6-0688198b9e24",
   "metadata": {},
   "outputs": [],
   "source": [
    "#while"
   ]
  },
  {
   "cell_type": "code",
   "execution_count": 47,
   "id": "be1e3a67-5a14-40c0-b887-aba0960266fd",
   "metadata": {},
   "outputs": [],
   "source": [
    "#CONTROL STATEMENTS[ break,continue,pass ]\n",
    "#BREAK"
   ]
  },
  {
   "cell_type": "code",
   "execution_count": 2,
   "id": "bb904fbd-2f85-4247-b95c-9a59f1b2582a",
   "metadata": {},
   "outputs": [
    {
     "name": "stdout",
     "output_type": "stream",
     "text": [
      "1\n",
      "3\n",
      "apple\n",
      "5\n",
      "6\n",
      "8\n"
     ]
    }
   ],
   "source": [
    "list1= [1,3,'apple',5,6,8]\n",
    "for i in list1:\n",
    "    print(i)"
   ]
  },
  {
   "cell_type": "code",
   "execution_count": 6,
   "id": "a87b48db-0ce0-4ed7-af37-ca4d52db9c50",
   "metadata": {},
   "outputs": [
    {
     "name": "stdout",
     "output_type": "stream",
     "text": [
      "1\n"
     ]
    }
   ],
   "source": [
    "list1= [1,3,'apple',5,6,8]\n",
    "for i in list1:\n",
    "    print(i)\n",
    "    break"
   ]
  },
  {
   "cell_type": "code",
   "execution_count": 8,
   "id": "4a5274c8-fd23-4342-b996-d3fc82dbc3f9",
   "metadata": {},
   "outputs": [
    {
     "name": "stdout",
     "output_type": "stream",
     "text": [
      "1\n",
      "3\n",
      "apple\n"
     ]
    }
   ],
   "source": [
    "list1= [1,3,'apple',5,6,8]\n",
    "for i in list1:\n",
    "    if i==5:\n",
    "        break\n",
    "    print(i)"
   ]
  },
  {
   "cell_type": "code",
   "execution_count": 14,
   "id": "2925c013-7a58-4c36-89a8-e34aaab38545",
   "metadata": {},
   "outputs": [
    {
     "name": "stdout",
     "output_type": "stream",
     "text": [
      "60 rest sre greater\n"
     ]
    }
   ],
   "source": [
    "nums=[10,25,60,45,30,55,70]\n",
    "for i in nums:\n",
    "    if i>50:\n",
    "        print(i,'rest sre greater')\n",
    "        break"
   ]
  },
  {
   "cell_type": "code",
   "execution_count": null,
   "id": "5b5e62fc-015a-4573-a37c-8ed0af1c33ac",
   "metadata": {},
   "outputs": [],
   "source": []
  },
  {
   "cell_type": "code",
   "execution_count": null,
   "id": "8b3d11cc-f65a-4592-865e-ebe12b1e2d8e",
   "metadata": {},
   "outputs": [],
   "source": []
  },
  {
   "cell_type": "code",
   "execution_count": null,
   "id": "656e42a3-b197-4c35-b7ae-d3c31b43a510",
   "metadata": {},
   "outputs": [],
   "source": []
  },
  {
   "cell_type": "code",
   "execution_count": null,
   "id": "cdf44641-76ec-47a9-a5c7-e96bff80d929",
   "metadata": {},
   "outputs": [],
   "source": []
  },
  {
   "cell_type": "code",
   "execution_count": 34,
   "id": "b5d56af8-4af5-415b-831f-bf5acc9d4ca4",
   "metadata": {},
   "outputs": [
    {
     "name": "stdin",
     "output_type": "stream",
     "text": [
      "enter your password: cndmcwk\n"
     ]
    },
    {
     "name": "stdout",
     "output_type": "stream",
     "text": [
      "login unsuccessful\n"
     ]
    }
   ],
   "source": [
    "#homework to make a UI\n",
    "corrected_password='secret'\n",
    "password= str(input('enter your password:'))\n",
    "if password==corrected_password:\n",
    "    print('login successful')\n",
    "else:\n",
    "    print(\"login unsuccessful\")"
   ]
  },
  {
   "cell_type": "code",
   "execution_count": 40,
   "id": "c5120371-6cdd-47b4-8d55-95f2041f83ae",
   "metadata": {},
   "outputs": [
    {
     "name": "stdin",
     "output_type": "stream",
     "text": [
      "enter your password: iubi\n"
     ]
    },
    {
     "name": "stdout",
     "output_type": "stream",
     "text": [
      "incorrect password, try again\n"
     ]
    },
    {
     "name": "stdin",
     "output_type": "stream",
     "text": [
      "enter your password: njn\n"
     ]
    },
    {
     "name": "stdout",
     "output_type": "stream",
     "text": [
      "incorrect password, try again\n"
     ]
    },
    {
     "name": "stdin",
     "output_type": "stream",
     "text": [
      "enter your password: nj]\n"
     ]
    },
    {
     "name": "stdout",
     "output_type": "stream",
     "text": [
      "incorrect password, try again\n"
     ]
    },
    {
     "name": "stdin",
     "output_type": "stream",
     "text": [
      "enter your password: nio\n"
     ]
    },
    {
     "name": "stdout",
     "output_type": "stream",
     "text": [
      "incorrect password, try again\n"
     ]
    },
    {
     "name": "stdin",
     "output_type": "stream",
     "text": [
      "enter your password: jn\n"
     ]
    },
    {
     "name": "stdout",
     "output_type": "stream",
     "text": [
      "incorrect password, try again\n"
     ]
    },
    {
     "name": "stdin",
     "output_type": "stream",
     "text": [
      "enter your password:  \n"
     ]
    },
    {
     "name": "stdout",
     "output_type": "stream",
     "text": [
      "incorrect password, try again\n"
     ]
    },
    {
     "name": "stdin",
     "output_type": "stream",
     "text": [
      "enter your password: secret\n"
     ]
    },
    {
     "name": "stdout",
     "output_type": "stream",
     "text": [
      "login successful\n"
     ]
    }
   ],
   "source": [
    "#corrected_password='secret'\n",
    "while True:\n",
    "    password= str(input('enter your password:'))\n",
    "    if password=='secret':\n",
    "        break\n",
    "    else:\n",
    "        print('incorrect password, try again')\n",
    "print('login successful')"
   ]
  },
  {
   "cell_type": "code",
   "execution_count": null,
   "id": "0b78b389-4581-445e-932e-864c561e322c",
   "metadata": {},
   "outputs": [],
   "source": [
    "#CONTINUE"
   ]
  },
  {
   "cell_type": "code",
   "execution_count": 49,
   "id": "e54eb753-a8ea-46b4-82a1-b29c97f0091c",
   "metadata": {},
   "outputs": [],
   "source": [
    "list1= [1,3,'apple',5,6,8]\n",
    "for i in list1:\n",
    "    continue\n",
    "    print(i)"
   ]
  },
  {
   "cell_type": "code",
   "execution_count": 55,
   "id": "0077f0d6-1b05-4f08-b8a1-b57375b90967",
   "metadata": {},
   "outputs": [
    {
     "name": "stdout",
     "output_type": "stream",
     "text": [
      "1\n",
      "3\n",
      "apple\n",
      "6\n",
      "8\n"
     ]
    }
   ],
   "source": [
    "list1= [1,3,'apple',5,6,8]\n",
    "for i in list1:\n",
    "    if i==5:\n",
    "        continue\n",
    "    print(i)"
   ]
  },
  {
   "cell_type": "code",
   "execution_count": 59,
   "id": "e11b2fa1-292a-4d8d-b80c-2a9162c3bce4",
   "metadata": {},
   "outputs": [
    {
     "name": "stdout",
     "output_type": "stream",
     "text": [
      "2\n",
      "4\n",
      "6\n",
      "8\n",
      "10\n"
     ]
    }
   ],
   "source": [
    "numbers=[1,2,3,4,5,6,7,8,9,10]\n",
    "for i in numbers:\n",
    "    if i%2!=0:\n",
    "        continue\n",
    "    print(i)"
   ]
  },
  {
   "cell_type": "code",
   "execution_count": null,
   "id": "3c11be22-ac5b-407b-8f27-6937b295774b",
   "metadata": {},
   "outputs": [],
   "source": []
  },
  {
   "cell_type": "code",
   "execution_count": null,
   "id": "ddf83691-b8a5-46d6-90ef-5a2660cd54ff",
   "metadata": {},
   "outputs": [],
   "source": []
  },
  {
   "cell_type": "code",
   "execution_count": null,
   "id": "fd14462f-4f50-4458-9055-a80b633daf82",
   "metadata": {},
   "outputs": [],
   "source": []
  },
  {
   "cell_type": "code",
   "execution_count": 61,
   "id": "72a8e236-ad82-462f-af48-8693a9947053",
   "metadata": {},
   "outputs": [
    {
     "name": "stdout",
     "output_type": "stream",
     "text": [
      "5\n",
      "10\n",
      "15\n"
     ]
    }
   ],
   "source": [
    "numbers=[-2,5,-8,10,-3,15]\n",
    "for i in numbers:\n",
    "    if i<0:\n",
    "        continue\n",
    "    print(i)"
   ]
  },
  {
   "cell_type": "code",
   "execution_count": 63,
   "id": "b4a4c868-eb49-428f-a81d-7d4589de6cb3",
   "metadata": {},
   "outputs": [
    {
     "name": "stdout",
     "output_type": "stream",
     "text": [
      "5\n",
      "10\n",
      "15\n"
     ]
    }
   ],
   "source": [
    "numbers=[-2,5,-8,10,-3,15]\n",
    "for i in numbers:\n",
    "    if i>0:\n",
    "        print(i)"
   ]
  },
  {
   "cell_type": "code",
   "execution_count": 99,
   "id": "8560d4e2-f5fb-4207-a090-5394e7b27e48",
   "metadata": {},
   "outputs": [
    {
     "name": "stdin",
     "output_type": "stream",
     "text": [
      "Enter the string hello world\n"
     ]
    },
    {
     "name": "stdout",
     "output_type": "stream",
     "text": [
      "3\n"
     ]
    }
   ],
   "source": [
    "#vowel counter\n",
    "str=(input('Enter the string'))\n",
    "count=0\n",
    "for i in str:\n",
    "    if i in ['a','e','i','o','u']:\n",
    "        count+=1\n",
    "print(count)"
   ]
  },
  {
   "cell_type": "code",
   "execution_count": null,
   "id": "d1ace9b5-1049-4522-9447-73bc2e56aae6",
   "metadata": {},
   "outputs": [],
   "source": []
  },
  {
   "cell_type": "code",
   "execution_count": null,
   "id": "cb1b507e-ca06-4dd9-b39b-660fefb52eba",
   "metadata": {},
   "outputs": [],
   "source": [
    "#program to accept a word from the user and reverse it."
   ]
  },
  {
   "cell_type": "code",
   "execution_count": null,
   "id": "bfee3a20-0e7e-4a1f-b4fb-06d934d651e5",
   "metadata": {},
   "outputs": [],
   "source": [
    "#PASS STATEMENT\n",
    "#even number "
   ]
  },
  {
   "cell_type": "code",
   "execution_count": 6,
   "id": "3720e298-b0a3-4e31-b65b-02c96298c256",
   "metadata": {},
   "outputs": [],
   "source": [
    "def my_info(name,system_id):\n",
    "    print('Name of student is',name,'and the id is',system_id)"
   ]
  },
  {
   "cell_type": "code",
   "execution_count": 8,
   "id": "d6ce9910-8abb-43ce-9501-fee573f22700",
   "metadata": {},
   "outputs": [
    {
     "name": "stdout",
     "output_type": "stream",
     "text": [
      "Name of student is shivani and the id is 2023248559\n"
     ]
    }
   ],
   "source": [
    "my_info('shivani',2023248559)"
   ]
  },
  {
   "cell_type": "code",
   "execution_count": 37,
   "id": "3aa3a875-5e69-457c-8472-13fc4a42b6de",
   "metadata": {},
   "outputs": [],
   "source": [
    "def discountedPrice():\n",
    "    price=40000 \n",
    "    #can use for loop\n",
    "    d1= price-40000*(5/100)\n",
    "    d2= price-40000*(10/100)\n",
    "    d3= price-40000*(15/100)\n",
    "    d4= price-40000*(20/100)\n",
    "    print(d1)\n",
    "    print(d2)\n",
    "    print(d3)\n",
    "    print(d4)"
   ]
  },
  {
   "cell_type": "code",
   "execution_count": 39,
   "id": "c031cca7-ab0d-4ee1-96d5-beaa4614d90c",
   "metadata": {},
   "outputs": [
    {
     "name": "stdout",
     "output_type": "stream",
     "text": [
      "38000.0\n",
      "36000.0\n",
      "34000.0\n",
      "32000.0\n"
     ]
    }
   ],
   "source": [
    "discountedPrice()"
   ]
  },
  {
   "cell_type": "code",
   "execution_count": 15,
   "id": "2439cdc4-f603-43dd-8f70-d084ed7f39c3",
   "metadata": {},
   "outputs": [],
   "source": [
    "def evenOrNot(A):\n",
    "    if A%2==0:\n",
    "        print('true')\n",
    "    else:\n",
    "        print('false')"
   ]
  },
  {
   "cell_type": "code",
   "execution_count": 29,
   "id": "c0a0a089-cbdf-4691-91c9-b7c90e186816",
   "metadata": {},
   "outputs": [
    {
     "name": "stdin",
     "output_type": "stream",
     "text": [
      "enter a number to check: 23\n"
     ]
    },
    {
     "name": "stdout",
     "output_type": "stream",
     "text": [
      "false\n"
     ]
    }
   ],
   "source": [
    "A=int(input(\"enter a number to check:\"))\n",
    "evenOrNot(A)"
   ]
  },
  {
   "cell_type": "code",
   "execution_count": 45,
   "id": "d0d94d49-442d-4c9d-935f-078dded606aa",
   "metadata": {},
   "outputs": [],
   "source": [
    "def factorial(n):\n",
    "    if n==0 or n==1:\n",
    "        return 1\n",
    "    else:\n",
    "        return factorial(n-1)*n"
   ]
  },
  {
   "cell_type": "code",
   "execution_count": 53,
   "id": "f574a38a-23cf-4f32-af7d-5ba167974d5b",
   "metadata": {},
   "outputs": [
    {
     "data": {
      "text/plain": [
       "24"
      ]
     },
     "execution_count": 53,
     "metadata": {},
     "output_type": "execute_result"
    }
   ],
   "source": [
    "factorial(4)"
   ]
  },
  {
   "cell_type": "code",
   "execution_count": 55,
   "id": "e8795735-3f34-49fe-a813-f087faa108e3",
   "metadata": {},
   "outputs": [
    {
     "data": {
      "text/plain": [
       "[1, 4, 9, 16, 25]"
      ]
     },
     "execution_count": 55,
     "metadata": {},
     "output_type": "execute_result"
    }
   ],
   "source": [
    "#using map function\n",
    "numbers=[1,2,3,4,5]\n",
    "list(map(lambda x: x**2, numbers))"
   ]
  },
  {
   "cell_type": "code",
   "execution_count": 58,
   "id": "0b7e48ee-8773-42bd-acbe-9d4438c8f231",
   "metadata": {},
   "outputs": [
    {
     "data": {
      "text/plain": [
       "[2, 4, 6, 8, 10]"
      ]
     },
     "execution_count": 58,
     "metadata": {},
     "output_type": "execute_result"
    }
   ],
   "source": [
    "numbers= [1, 2, 3, 4, 5, 6, 7, 8, 9, 10]\n",
    "list(filter(lambda x:x%2==0,numbers))"
   ]
  },
  {
   "cell_type": "code",
   "execution_count": 68,
   "id": "45d99b6e-ebc0-4005-a8e4-22b1da681d10",
   "metadata": {},
   "outputs": [
    {
     "data": {
      "text/plain": [
       "120"
      ]
     },
     "execution_count": 68,
     "metadata": {},
     "output_type": "execute_result"
    }
   ],
   "source": [
    "from functools import reduce\n",
    "numbers=[1,2,3,4,5]\n",
    "reduce(lambda x, y: x*y , numbers)"
   ]
  },
  {
   "cell_type": "code",
   "execution_count": 75,
   "id": "566b56b0-47fb-4581-b31b-53dc2f596c0f",
   "metadata": {},
   "outputs": [
    {
     "data": {
      "text/plain": [
       "16"
      ]
     },
     "execution_count": 75,
     "metadata": {},
     "output_type": "execute_result"
    }
   ],
   "source": [
    "def power(a,b):\n",
    "    return a**b\n",
    "power(2,4)"
   ]
  },
  {
   "cell_type": "code",
   "execution_count": 2,
   "id": "d2ba72f9-ec7b-498e-8ba5-63b5aab39dc1",
   "metadata": {},
   "outputs": [
    {
     "name": "stdout",
     "output_type": "stream",
     "text": [
      "1\n",
      "4\n",
      "9\n",
      "16\n",
      "25\n",
      "36\n",
      "49\n",
      "64\n",
      "81\n",
      "100\n",
      "121\n",
      "144\n",
      "169\n",
      "196\n",
      "225\n",
      "256\n",
      "289\n",
      "324\n",
      "361\n",
      "400\n",
      "441\n",
      "484\n",
      "529\n",
      "576\n",
      "625\n",
      "676\n",
      "729\n",
      "784\n",
      "841\n",
      "900\n"
     ]
    }
   ],
   "source": [
    "def square():\n",
    "    for i in range(1,31):\n",
    "        print(i*i)\n",
    "square()        "
   ]
  },
  {
   "cell_type": "code",
   "execution_count": 97,
   "id": "c4d6e51e-5897-46d9-b6fc-1b842e9b7abc",
   "metadata": {},
   "outputs": [
    {
     "name": "stdout",
     "output_type": "stream",
     "text": [
      "defaultdict(<class 'set'>, {'Class-V': {1}, 'Class-VI': {2}, 'Class-VII': {2}, 'Class-VIII': {3}})\n"
     ]
    }
   ],
   "source": [
    "from collections import defaultdict\n",
    "\n",
    "keys = ['Class-V', 'Class-VI', 'Class-VII', 'Class-VIII']\n",
    "values = [1, 2, 2, 3]\n",
    "\n",
    "result_dict = defaultdict(set)\n",
    "\n",
    "for key, value in zip(keys, values):\n",
    "    result_dict[key].add(value) \n",
    "\n",
    "print(result_dict)"
   ]
  },
  {
   "cell_type": "code",
   "execution_count": null,
   "id": "7ad0aa48-e9df-4a45-8b15-58ced63801fe",
   "metadata": {},
   "outputs": [],
   "source": []
  }
 ],
 "metadata": {
  "kernelspec": {
   "display_name": "Python [conda env:base] *",
   "language": "python",
   "name": "conda-base-py"
  },
  "language_info": {
   "codemirror_mode": {
    "name": "ipython",
    "version": 3
   },
   "file_extension": ".py",
   "mimetype": "text/x-python",
   "name": "python",
   "nbconvert_exporter": "python",
   "pygments_lexer": "ipython3",
   "version": "3.12.7"
  }
 },
 "nbformat": 4,
 "nbformat_minor": 5
}
