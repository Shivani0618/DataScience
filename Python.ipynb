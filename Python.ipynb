{
 "cells": [
  {
   "cell_type": "code",
   "execution_count": 24,
   "id": "c9c0ffc9-bc10-49f2-8b98-56dc56164316",
   "metadata": {},
   "outputs": [
    {
     "name": "stdout",
     "output_type": "stream",
     "text": [
      "hello world 4 this is python\n"
     ]
    }
   ],
   "source": [
    "print('hello world',2+2,'this is python',sep=' ')"
   ]
  },
  {
   "cell_type": "code",
   "execution_count": 36,
   "id": "0dfb219e-3008-41b6-a252-4f5e130e3f9f",
   "metadata": {},
   "outputs": [
    {
     "name": "stdout",
     "output_type": "stream",
     "text": [
      "hello world 4 this is python\n",
      "Apple\n",
      "\n",
      "\n",
      "hello world 4 this is python*Apple\n",
      "\n",
      "\n",
      "hello world 4 this is python\n",
      "Apple\n"
     ]
    }
   ],
   "source": [
    "print('hello world',2+2,'this is python')  #this is efficient\n",
    "print('Apple')\n",
    "print('\\n')\n",
    "\n",
    "print('hello world',2+2,'this is python',end='*')\n",
    "print('Apple')\n",
    "print('\\n')\n",
    "\n",
    "print('hello world',2+2,'this is python',end='\\n')\n",
    "print('Apple')"
   ]
  },
  {
   "cell_type": "code",
   "execution_count": 44,
   "id": "1ae50bb3-e591-462d-a8c5-ac13a6e6b083",
   "metadata": {},
   "outputs": [
    {
     "name": "stdout",
     "output_type": "stream",
     "text": [
      "Shivani_Sharma\n",
      "Shivani_Sharma\n"
     ]
    }
   ],
   "source": [
    "print('Shivani','Sharma',sep='_')\n",
    "print('Shivani',end='_')\n",
    "print('Sharma')"
   ]
  },
  {
   "cell_type": "code",
   "execution_count": 80,
   "id": "6fb77ae4-a33a-48c6-afae-03a0731cdb5f",
   "metadata": {},
   "outputs": [
    {
     "name": "stdout",
     "output_type": "stream",
     "text": [
      "(1, 2, 3, 'apple', 6)\n",
      "<class 'tuple'>\n",
      "\n",
      "\n",
      "[1, 2, 3, 'apple', 6]\n",
      "<class 'list'>\n",
      "\n",
      "\n",
      "range(0, 5)\n",
      "<class 'range'>\n"
     ]
    }
   ],
   "source": [
    "t1=(1,2,3,'apple',6)\n",
    "print(t1)\n",
    "print(type(t1))\n",
    "print('\\n')\n",
    "\n",
    "l1=[1,2,3,'apple',6]\n",
    "print(l1)\n",
    "print(type(l1))\n",
    "print('\\n')\n",
    "      \n",
    "r1= range(0,5)\n",
    "print(r1)\n",
    "print(type(r1))"
   ]
  },
  {
   "cell_type": "code",
   "execution_count": 88,
   "id": "bc72f062-d684-4ad5-9b09-cde63a92d520",
   "metadata": {},
   "outputs": [
    {
     "name": "stdout",
     "output_type": "stream",
     "text": [
      "['apple', 'mango', 'guava', 'grapes', 'watermelon']\n",
      "['apple', 'mango', 'guava', 'grapes']\n"
     ]
    }
   ],
   "source": [
    "s1=['apple','mango','guava','grapes','watermelon']\n",
    "print(s1)\n",
    "s1.remove('watermelon')\n",
    "print(s1)"
   ]
  },
  {
   "cell_type": "code",
   "execution_count": 94,
   "id": "9590fe82-5a82-427b-9dec-e988e2dda52c",
   "metadata": {},
   "outputs": [
    {
     "name": "stdout",
     "output_type": "stream",
     "text": [
      "12\n",
      "61\n",
      "49\n",
      "-61\n",
      "240\n",
      "15\n"
     ]
    }
   ],
   "source": [
    "a=60\n",
    "b=13\n",
    "print(a&b)\n",
    "print(a|b)\n",
    "print(a^b)\n",
    "print(~a)\n",
    "print(a<<2)\n",
    "print(a>>2)"
   ]
  },
  {
   "cell_type": "code",
   "execution_count": 98,
   "id": "af0c56c5-98a0-44d0-b583-a56fb35e8bad",
   "metadata": {},
   "outputs": [
    {
     "name": "stdin",
     "output_type": "stream",
     "text": [
      "Enter the length: 6\n",
      "Enter the width: 3\n"
     ]
    },
    {
     "name": "stdout",
     "output_type": "stream",
     "text": [
      "18\n"
     ]
    }
   ],
   "source": [
    "length=int(input(\"Enter the length:\"))\n",
    "width=int(input(\"Enter the width:\"))\n",
    "print(length*width)"
   ]
  },
  {
   "cell_type": "code",
   "execution_count": 100,
   "id": "53856348-847d-4d64-98e1-5cd630692c61",
   "metadata": {},
   "outputs": [
    {
     "name": "stdout",
     "output_type": "stream",
     "text": [
      "1\n",
      "3.3333333333333335\n"
     ]
    }
   ],
   "source": [
    "num1=10\n",
    "num2=3\n",
    "print(num1%num2)\n",
    "print(num1/num2)"
   ]
  },
  {
   "cell_type": "code",
   "execution_count": 104,
   "id": "a269b405-5f47-43c6-bf31-d9031cc638a5",
   "metadata": {},
   "outputs": [
    {
     "name": "stdin",
     "output_type": "stream",
     "text": [
      "your name: shivani\n",
      "your age: 21\n"
     ]
    },
    {
     "name": "stdout",
     "output_type": "stream",
     "text": [
      "hello shivani your age next year will be 22 years\n"
     ]
    }
   ],
   "source": [
    "name=str(input(\"your name:\"))\n",
    "age=int(input(\"your age:\"))\n",
    "print(\"hello\",name,\"your age next year will be\",age+1,\"years\")"
   ]
  },
  {
   "cell_type": "code",
   "execution_count": null,
   "id": "2ea1ba1d-67c7-4dc2-a237-a52d8385e02a",
   "metadata": {},
   "outputs": [],
   "source": [
    "num1=int(input('enter num1:'))\n",
    "num2=int(input('enter num2:'))\n",
    "sum=num1+num2\n",
    "diff=num1-num2\n",
    "product=num1*num2\n",
    "quo=num1/num2\n",
    "operation=str"
   ]
  },
  {
   "cell_type": "code",
   "execution_count": null,
   "id": "178f850c-e767-4fea-a62c-3e90dc711350",
   "metadata": {},
   "outputs": [],
   "source": []
  },
  {
   "cell_type": "code",
   "execution_count": null,
   "id": "21a04cfd-333b-40ee-b1d1-4cd5f3c51b9d",
   "metadata": {},
   "outputs": [],
   "source": []
  }
 ],
 "metadata": {
  "kernelspec": {
   "display_name": "Python [conda env:base] *",
   "language": "python",
   "name": "conda-base-py"
  },
  "language_info": {
   "codemirror_mode": {
    "name": "ipython",
    "version": 3
   },
   "file_extension": ".py",
   "mimetype": "text/x-python",
   "name": "python",
   "nbconvert_exporter": "python",
   "pygments_lexer": "ipython3",
   "version": "3.12.7"
  }
 },
 "nbformat": 4,
 "nbformat_minor": 5
}
