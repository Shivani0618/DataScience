{
 "cells": [
  {
   "cell_type": "code",
   "execution_count": 2,
   "id": "574b2bf4-58cf-480a-bf32-ef399490a0fa",
   "metadata": {},
   "outputs": [],
   "source": [
    "import numpy as np\n",
    "import pandas as pd"
   ]
  },
  {
   "cell_type": "code",
   "execution_count": 30,
   "id": "a66e24bc-6d37-4a43-9281-321743f07339",
   "metadata": {},
   "outputs": [
    {
     "name": "stdout",
     "output_type": "stream",
     "text": [
      "/Users/shivani\n",
      "['.config', 'Music', 'tf_env', 'mysql.ipynb', '.condarc', 'Recommendation.ipynb', 'StockData.ipynb', 'best_model.h5', '.DS_Store', 'Python2.ipynb', '.CFUserTextEncoding', '.xonshrc', 'anaconda_projects', 'Untitled.ipynb', '.zshrc', 'config.json', 'Pictures', '.zprofile', 'IdeaSnapshots', '.zsh_history', '.ipython', 'Desktop', 'Library', '.matplotlib', 'MedTech.ipynb', 'CTRL+HEAL.ipynb', 'aptos_resnet50_smote.h5', 'MedTech3.ipynb', 'DiabeticRetinopathy.ipynb', 'Public', '.idlerc', '.tcshrc', 'NumPy.ipynb', '.anaconda', 'Movies', 'model.h5', '.Trash', 'PBL-3_CSP351_Project Report_word.pages', 'connect_mysql.py', '.ipynb_checkpoints', '.jupyter', '.keras', 'MedTech2.ipynb', 'Documents', 'venv', '.pyenv', 'Python.ipynb', '.mysql_history', '.vscode', '.bash_profile', 'Pandas.ipynb', 'DiabeticRetinopathy-Copy1.ipynb', 'Downloads', '.redhat', '.continuum', '.cache', 'Titanic.ipynb', 'WeatherNotifier.ipynb', '.zsh_sessions', '.conda']\n"
     ]
    }
   ],
   "source": [
    "import os\n",
    "print(os.getcwd())\n",
    "print(os.listdir())"
   ]
  },
  {
   "cell_type": "code",
   "execution_count": null,
   "id": "b54643bc-fcbf-4583-89ca-b8160600bf07",
   "metadata": {},
   "outputs": [],
   "source": [
    "data=pd.read_csv('StockData.csv')"
   ]
  },
  {
   "cell_type": "code",
   "execution_count": 20,
   "id": "0bdf59c9-b825-461a-8b39-8aac650dd5f5",
   "metadata": {},
   "outputs": [
    {
     "data": {
      "text/html": [
       "<div>\n",
       "<style scoped>\n",
       "    .dataframe tbody tr th:only-of-type {\n",
       "        vertical-align: middle;\n",
       "    }\n",
       "\n",
       "    .dataframe tbody tr th {\n",
       "        vertical-align: top;\n",
       "    }\n",
       "\n",
       "    .dataframe thead th {\n",
       "        text-align: right;\n",
       "    }\n",
       "</style>\n",
       "<table border=\"1\" class=\"dataframe\">\n",
       "  <thead>\n",
       "    <tr style=\"text-align: right;\">\n",
       "      <th></th>\n",
       "      <th>stock</th>\n",
       "      <th>date</th>\n",
       "      <th>price</th>\n",
       "    </tr>\n",
       "  </thead>\n",
       "  <tbody>\n",
       "    <tr>\n",
       "      <th>0</th>\n",
       "      <td>AAPL</td>\n",
       "      <td>08-02-2013</td>\n",
       "      <td>67.8542</td>\n",
       "    </tr>\n",
       "    <tr>\n",
       "      <th>1</th>\n",
       "      <td>AAPL</td>\n",
       "      <td>11-02-2013</td>\n",
       "      <td>68.5614</td>\n",
       "    </tr>\n",
       "    <tr>\n",
       "      <th>2</th>\n",
       "      <td>AAPL</td>\n",
       "      <td>12-02-2013</td>\n",
       "      <td>66.8428</td>\n",
       "    </tr>\n",
       "    <tr>\n",
       "      <th>3</th>\n",
       "      <td>AAPL</td>\n",
       "      <td>13-02-2013</td>\n",
       "      <td>66.7156</td>\n",
       "    </tr>\n",
       "    <tr>\n",
       "      <th>4</th>\n",
       "      <td>AAPL</td>\n",
       "      <td>14-02-2013</td>\n",
       "      <td>66.6556</td>\n",
       "    </tr>\n",
       "  </tbody>\n",
       "</table>\n",
       "</div>"
      ],
      "text/plain": [
       "  stock        date    price\n",
       "0  AAPL  08-02-2013  67.8542\n",
       "1  AAPL  11-02-2013  68.5614\n",
       "2  AAPL  12-02-2013  66.8428\n",
       "3  AAPL  13-02-2013  66.7156\n",
       "4  AAPL  14-02-2013  66.6556"
      ]
     },
     "execution_count": 20,
     "metadata": {},
     "output_type": "execute_result"
    }
   ],
   "source": [
    "data.head() #first 5 rows"
   ]
  },
  {
   "cell_type": "code",
   "execution_count": 24,
   "id": "172d430e-cafa-4bed-915c-ada2f7b2433f",
   "metadata": {},
   "outputs": [
    {
     "data": {
      "text/html": [
       "<div>\n",
       "<style scoped>\n",
       "    .dataframe tbody tr th:only-of-type {\n",
       "        vertical-align: middle;\n",
       "    }\n",
       "\n",
       "    .dataframe tbody tr th {\n",
       "        vertical-align: top;\n",
       "    }\n",
       "\n",
       "    .dataframe thead th {\n",
       "        text-align: right;\n",
       "    }\n",
       "</style>\n",
       "<table border=\"1\" class=\"dataframe\">\n",
       "  <thead>\n",
       "    <tr style=\"text-align: right;\">\n",
       "      <th></th>\n",
       "      <th>stock</th>\n",
       "      <th>date</th>\n",
       "      <th>price</th>\n",
       "    </tr>\n",
       "  </thead>\n",
       "  <tbody>\n",
       "    <tr>\n",
       "      <th>5031</th>\n",
       "      <td>ZTS</td>\n",
       "      <td>01-02-2018</td>\n",
       "      <td>77.82</td>\n",
       "    </tr>\n",
       "    <tr>\n",
       "      <th>5032</th>\n",
       "      <td>ZTS</td>\n",
       "      <td>02-02-2018</td>\n",
       "      <td>76.78</td>\n",
       "    </tr>\n",
       "    <tr>\n",
       "      <th>5033</th>\n",
       "      <td>ZTS</td>\n",
       "      <td>05-02-2018</td>\n",
       "      <td>73.83</td>\n",
       "    </tr>\n",
       "    <tr>\n",
       "      <th>5034</th>\n",
       "      <td>ZTS</td>\n",
       "      <td>06-02-2018</td>\n",
       "      <td>73.27</td>\n",
       "    </tr>\n",
       "    <tr>\n",
       "      <th>5035</th>\n",
       "      <td>ZTS</td>\n",
       "      <td>07-02-2018</td>\n",
       "      <td>73.86</td>\n",
       "    </tr>\n",
       "  </tbody>\n",
       "</table>\n",
       "</div>"
      ],
      "text/plain": [
       "     stock        date  price\n",
       "5031   ZTS  01-02-2018  77.82\n",
       "5032   ZTS  02-02-2018  76.78\n",
       "5033   ZTS  05-02-2018  73.83\n",
       "5034   ZTS  06-02-2018  73.27\n",
       "5035   ZTS  07-02-2018  73.86"
      ]
     },
     "execution_count": 24,
     "metadata": {},
     "output_type": "execute_result"
    }
   ],
   "source": [
    "data.tail() #last 5 rows"
   ]
  },
  {
   "cell_type": "code",
   "execution_count": 22,
   "id": "bb55b796-3047-4217-8e49-921de4be5889",
   "metadata": {},
   "outputs": [
    {
     "data": {
      "text/html": [
       "<div>\n",
       "<style scoped>\n",
       "    .dataframe tbody tr th:only-of-type {\n",
       "        vertical-align: middle;\n",
       "    }\n",
       "\n",
       "    .dataframe tbody tr th {\n",
       "        vertical-align: top;\n",
       "    }\n",
       "\n",
       "    .dataframe thead th {\n",
       "        text-align: right;\n",
       "    }\n",
       "</style>\n",
       "<table border=\"1\" class=\"dataframe\">\n",
       "  <thead>\n",
       "    <tr style=\"text-align: right;\">\n",
       "      <th></th>\n",
       "      <th>stock</th>\n",
       "      <th>date</th>\n",
       "      <th>price</th>\n",
       "    </tr>\n",
       "  </thead>\n",
       "  <tbody>\n",
       "    <tr>\n",
       "      <th>3891</th>\n",
       "      <td>ZTS</td>\n",
       "      <td>24-07-2013</td>\n",
       "      <td>29.90</td>\n",
       "    </tr>\n",
       "    <tr>\n",
       "      <th>4978</th>\n",
       "      <td>ZTS</td>\n",
       "      <td>14-11-2017</td>\n",
       "      <td>69.90</td>\n",
       "    </tr>\n",
       "    <tr>\n",
       "      <th>4264</th>\n",
       "      <td>ZTS</td>\n",
       "      <td>15-01-2015</td>\n",
       "      <td>42.94</td>\n",
       "    </tr>\n",
       "    <tr>\n",
       "      <th>4447</th>\n",
       "      <td>ZTS</td>\n",
       "      <td>07-10-2015</td>\n",
       "      <td>42.67</td>\n",
       "    </tr>\n",
       "    <tr>\n",
       "      <th>1727</th>\n",
       "      <td>SNI</td>\n",
       "      <td>17-12-2014</td>\n",
       "      <td>77.85</td>\n",
       "    </tr>\n",
       "  </tbody>\n",
       "</table>\n",
       "</div>"
      ],
      "text/plain": [
       "     stock        date  price\n",
       "3891   ZTS  24-07-2013  29.90\n",
       "4978   ZTS  14-11-2017  69.90\n",
       "4264   ZTS  15-01-2015  42.94\n",
       "4447   ZTS  07-10-2015  42.67\n",
       "1727   SNI  17-12-2014  77.85"
      ]
     },
     "execution_count": 22,
     "metadata": {},
     "output_type": "execute_result"
    }
   ],
   "source": [
    "data.sample(5) #random 5 rows"
   ]
  },
  {
   "cell_type": "code",
   "execution_count": 26,
   "id": "69f8267c-12b2-42b0-a840-dd28b4977953",
   "metadata": {},
   "outputs": [
    {
     "data": {
      "text/html": [
       "<div>\n",
       "<style scoped>\n",
       "    .dataframe tbody tr th:only-of-type {\n",
       "        vertical-align: middle;\n",
       "    }\n",
       "\n",
       "    .dataframe tbody tr th {\n",
       "        vertical-align: top;\n",
       "    }\n",
       "\n",
       "    .dataframe thead th {\n",
       "        text-align: right;\n",
       "    }\n",
       "</style>\n",
       "<table border=\"1\" class=\"dataframe\">\n",
       "  <thead>\n",
       "    <tr style=\"text-align: right;\">\n",
       "      <th></th>\n",
       "      <th>price</th>\n",
       "    </tr>\n",
       "  </thead>\n",
       "  <tbody>\n",
       "    <tr>\n",
       "      <th>count</th>\n",
       "      <td>5036.000000</td>\n",
       "    </tr>\n",
       "    <tr>\n",
       "      <th>mean</th>\n",
       "      <td>73.057030</td>\n",
       "    </tr>\n",
       "    <tr>\n",
       "      <th>std</th>\n",
       "      <td>29.011126</td>\n",
       "    </tr>\n",
       "    <tr>\n",
       "      <th>min</th>\n",
       "      <td>28.400000</td>\n",
       "    </tr>\n",
       "    <tr>\n",
       "      <th>25%</th>\n",
       "      <td>54.067500</td>\n",
       "    </tr>\n",
       "    <tr>\n",
       "      <th>50%</th>\n",
       "      <td>69.085000</td>\n",
       "    </tr>\n",
       "    <tr>\n",
       "      <th>75%</th>\n",
       "      <td>79.250000</td>\n",
       "    </tr>\n",
       "    <tr>\n",
       "      <th>max</th>\n",
       "      <td>179.260000</td>\n",
       "    </tr>\n",
       "  </tbody>\n",
       "</table>\n",
       "</div>"
      ],
      "text/plain": [
       "             price\n",
       "count  5036.000000\n",
       "mean     73.057030\n",
       "std      29.011126\n",
       "min      28.400000\n",
       "25%      54.067500\n",
       "50%      69.085000\n",
       "75%      79.250000\n",
       "max     179.260000"
      ]
     },
     "execution_count": 26,
     "metadata": {},
     "output_type": "execute_result"
    }
   ],
   "source": [
    "data.describe()"
   ]
  },
  {
   "cell_type": "code",
   "execution_count": 28,
   "id": "dfb6a115-b291-43b0-81b9-51e2c5558b7e",
   "metadata": {},
   "outputs": [
    {
     "name": "stdout",
     "output_type": "stream",
     "text": [
      "<class 'pandas.core.frame.DataFrame'>\n",
      "RangeIndex: 5036 entries, 0 to 5035\n",
      "Data columns (total 3 columns):\n",
      " #   Column  Non-Null Count  Dtype  \n",
      "---  ------  --------------  -----  \n",
      " 0   stock   5036 non-null   object \n",
      " 1   date    5036 non-null   object \n",
      " 2   price   5036 non-null   float64\n",
      "dtypes: float64(1), object(2)\n",
      "memory usage: 118.2+ KB\n"
     ]
    }
   ],
   "source": [
    "data.info()"
   ]
  },
  {
   "cell_type": "code",
   "execution_count": 48,
   "id": "7c241c1b-d5b7-429f-9718-dfda5b44f803",
   "metadata": {},
   "outputs": [
    {
     "data": {
      "text/plain": [
       "stock    0\n",
       "date     0\n",
       "price    0\n",
       "dtype: int64"
      ]
     },
     "execution_count": 48,
     "metadata": {},
     "output_type": "execute_result"
    }
   ],
   "source": [
    "data.isnull().sum()"
   ]
  },
  {
   "cell_type": "code",
   "execution_count": 42,
   "id": "e6a7053c-c2dc-41fc-8519-2d34a4829417",
   "metadata": {},
   "outputs": [
    {
     "data": {
      "text/html": [
       "<div>\n",
       "<style scoped>\n",
       "    .dataframe tbody tr th:only-of-type {\n",
       "        vertical-align: middle;\n",
       "    }\n",
       "\n",
       "    .dataframe tbody tr th {\n",
       "        vertical-align: top;\n",
       "    }\n",
       "\n",
       "    .dataframe thead th {\n",
       "        text-align: right;\n",
       "    }\n",
       "</style>\n",
       "<table border=\"1\" class=\"dataframe\">\n",
       "  <thead>\n",
       "    <tr style=\"text-align: right;\">\n",
       "      <th></th>\n",
       "      <th>stock</th>\n",
       "      <th>date</th>\n",
       "      <th>price</th>\n",
       "    </tr>\n",
       "  </thead>\n",
       "  <tbody>\n",
       "    <tr>\n",
       "      <th>0</th>\n",
       "      <td>AAPL</td>\n",
       "      <td>2013-08-02 00:00:00</td>\n",
       "      <td>67.8542</td>\n",
       "    </tr>\n",
       "    <tr>\n",
       "      <th>1</th>\n",
       "      <td>AAPL</td>\n",
       "      <td>2013-11-02 00:00:00</td>\n",
       "      <td>NaN</td>\n",
       "    </tr>\n",
       "    <tr>\n",
       "      <th>2</th>\n",
       "      <td>AAPL</td>\n",
       "      <td>2013-12-02 00:00:00</td>\n",
       "      <td>NaN</td>\n",
       "    </tr>\n",
       "    <tr>\n",
       "      <th>3</th>\n",
       "      <td>AAPL</td>\n",
       "      <td>13-02-2013</td>\n",
       "      <td>NaN</td>\n",
       "    </tr>\n",
       "    <tr>\n",
       "      <th>4</th>\n",
       "      <td>AAPL</td>\n",
       "      <td>14-02-2013</td>\n",
       "      <td>66.6556</td>\n",
       "    </tr>\n",
       "  </tbody>\n",
       "</table>\n",
       "</div>"
      ],
      "text/plain": [
       "  stock                 date    price\n",
       "0  AAPL  2013-08-02 00:00:00  67.8542\n",
       "1  AAPL  2013-11-02 00:00:00      NaN\n",
       "2  AAPL  2013-12-02 00:00:00      NaN\n",
       "3  AAPL           13-02-2013      NaN\n",
       "4  AAPL           14-02-2013  66.6556"
      ]
     },
     "execution_count": 42,
     "metadata": {},
     "output_type": "execute_result"
    }
   ],
   "source": [
    "dataex = pd.read_excel('/Applications/University/year_2/Sem_4/DataScience/new.xlsx')\n",
    "dataex.head()"
   ]
  },
  {
   "cell_type": "code",
   "execution_count": 46,
   "id": "8464309b-86d4-4a21-8431-84a226f2a03e",
   "metadata": {},
   "outputs": [
    {
     "name": "stdout",
     "output_type": "stream",
     "text": [
      "<class 'pandas.core.frame.DataFrame'>\n",
      "RangeIndex: 5036 entries, 0 to 5035\n",
      "Data columns (total 3 columns):\n",
      " #   Column  Non-Null Count  Dtype  \n",
      "---  ------  --------------  -----  \n",
      " 0   stock   5036 non-null   object \n",
      " 1   date    5036 non-null   object \n",
      " 2   price   5033 non-null   float64\n",
      "dtypes: float64(1), object(2)\n",
      "memory usage: 118.2+ KB\n"
     ]
    }
   ],
   "source": [
    "dataex.info()"
   ]
  },
  {
   "cell_type": "code",
   "execution_count": 62,
   "id": "74caa3f6-42cf-4b10-98d2-1584f948939f",
   "metadata": {},
   "outputs": [
    {
     "name": "stdout",
     "output_type": "stream",
     "text": [
      "stock     object\n",
      "date      object\n",
      "price    float64\n",
      "dtype: object\n",
      "stock     object\n",
      "date      object\n",
      "price    float64\n",
      "dtype: object\n"
     ]
    }
   ],
   "source": [
    "print(data.dtypes)\n",
    "print(data.dtypes)"
   ]
  },
  {
   "cell_type": "code",
   "execution_count": 66,
   "id": "e4659ad7-2757-40e9-b890-e3b203282205",
   "metadata": {},
   "outputs": [
    {
     "data": {
      "text/plain": [
       "0"
      ]
     },
     "execution_count": 66,
     "metadata": {},
     "output_type": "execute_result"
    }
   ],
   "source": [
    "#check for duplicate \n",
    "data.duplicated().sum()"
   ]
  },
  {
   "cell_type": "code",
   "execution_count": 72,
   "id": "34857eff-dc82-4731-8e9d-1a28f9fcd5ae",
   "metadata": {},
   "outputs": [
    {
     "data": {
      "text/html": [
       "<div>\n",
       "<style scoped>\n",
       "    .dataframe tbody tr th:only-of-type {\n",
       "        vertical-align: middle;\n",
       "    }\n",
       "\n",
       "    .dataframe tbody tr th {\n",
       "        vertical-align: top;\n",
       "    }\n",
       "\n",
       "    .dataframe thead th {\n",
       "        text-align: right;\n",
       "    }\n",
       "</style>\n",
       "<table border=\"1\" class=\"dataframe\">\n",
       "  <thead>\n",
       "    <tr style=\"text-align: right;\">\n",
       "      <th></th>\n",
       "      <th>price</th>\n",
       "    </tr>\n",
       "  </thead>\n",
       "  <tbody>\n",
       "    <tr>\n",
       "      <th>count</th>\n",
       "      <td>5033.000000</td>\n",
       "    </tr>\n",
       "    <tr>\n",
       "      <th>mean</th>\n",
       "      <td>73.060418</td>\n",
       "    </tr>\n",
       "    <tr>\n",
       "      <th>std</th>\n",
       "      <td>29.019434</td>\n",
       "    </tr>\n",
       "    <tr>\n",
       "      <th>min</th>\n",
       "      <td>28.400000</td>\n",
       "    </tr>\n",
       "    <tr>\n",
       "      <th>25%</th>\n",
       "      <td>54.030000</td>\n",
       "    </tr>\n",
       "    <tr>\n",
       "      <th>50%</th>\n",
       "      <td>69.090000</td>\n",
       "    </tr>\n",
       "    <tr>\n",
       "      <th>75%</th>\n",
       "      <td>79.250000</td>\n",
       "    </tr>\n",
       "    <tr>\n",
       "      <th>max</th>\n",
       "      <td>179.260000</td>\n",
       "    </tr>\n",
       "  </tbody>\n",
       "</table>\n",
       "</div>"
      ],
      "text/plain": [
       "             price\n",
       "count  5033.000000\n",
       "mean     73.060418\n",
       "std      29.019434\n",
       "min      28.400000\n",
       "25%      54.030000\n",
       "50%      69.090000\n",
       "75%      79.250000\n",
       "max     179.260000"
      ]
     },
     "execution_count": 72,
     "metadata": {},
     "output_type": "execute_result"
    }
   ],
   "source": [
    "dataex.describe()"
   ]
  },
  {
   "cell_type": "code",
   "execution_count": 76,
   "id": "579093f8-0e47-4e4c-b33d-8986de7859ed",
   "metadata": {},
   "outputs": [
    {
     "name": "stdout",
     "output_type": "stream",
     "text": [
      "(5036, 3)\n",
      "(5036, 3)\n"
     ]
    }
   ],
   "source": [
    "print(data.shape)\n",
    "print(data.shape)"
   ]
  },
  {
   "cell_type": "code",
   "execution_count": 80,
   "id": "3ae60bc0-5064-4848-8157-970a4af37439",
   "metadata": {},
   "outputs": [
    {
     "name": "stdout",
     "output_type": "stream",
     "text": [
      "28.4\n",
      "179.26\n"
     ]
    }
   ],
   "source": [
    "print(data['price'].min())\n",
    "print(data['price'].max())"
   ]
  },
  {
   "cell_type": "code",
   "execution_count": 94,
   "id": "30b48ab6-f710-4ca8-b8d8-bd6562faf577",
   "metadata": {},
   "outputs": [
    {
     "name": "stdout",
     "output_type": "stream",
     "text": [
      "     stock        date  price\n",
      "4072   ZTS  11-04-2014   28.4\n",
      "     stock        date   price\n",
      "1244  AAPL  18-01-2018  179.26\n",
      "stock           ZTS\n",
      "date     11-04-2014\n",
      "price          28.4\n",
      "Name: 4072, dtype: object\n",
      "stock          AAPL\n",
      "date     18-01-2018\n",
      "price        179.26\n",
      "Name: 1244, dtype: object\n"
     ]
    }
   ],
   "source": [
    "print(data[data['price']==data['price'].min()]) #to get record of min \n",
    "print(data[data['price']==data['price'].max()]) #t get record of max\n",
    "#OR\n",
    "min_index = data['price'].idxmin()\n",
    "max_index = data['price'].idxmax()\n",
    "min_row = data.loc[min_index]\n",
    "max_row = data.loc[max_index]\n",
    "print(min_row)\n",
    "print(max_row)"
   ]
  },
  {
   "cell_type": "code",
   "execution_count": 103,
   "id": "723be47f-8c67-4313-9df1-c695557f5841",
   "metadata": {},
   "outputs": [
    {
     "name": "stdout",
     "output_type": "stream",
     "text": [
      "['AAPL' 'SNI' 'TJX' 'ZTS']\n",
      "4\n"
     ]
    }
   ],
   "source": [
    "#unique function\n",
    "print(data['stock'].unique())\n",
    "print(data['stock'].nunique())"
   ]
  },
  {
   "cell_type": "code",
   "execution_count": 105,
   "id": "ef502964-3134-4197-a4f7-02fcd5971931",
   "metadata": {},
   "outputs": [
    {
     "data": {
      "text/plain": [
       "stock\n",
       "AAPL    1259\n",
       "SNI     1259\n",
       "TJX     1259\n",
       "ZTS     1259\n",
       "Name: count, dtype: int64"
      ]
     },
     "execution_count": 105,
     "metadata": {},
     "output_type": "execute_result"
    }
   ],
   "source": [
    "#to get unique category count\n",
    "data['stock'].value_counts()"
   ]
  },
  {
   "cell_type": "code",
   "execution_count": 107,
   "id": "9448b219-2ebe-479d-9992-11cb999a4c16",
   "metadata": {},
   "outputs": [
    {
     "data": {
      "text/plain": [
       "stock\n",
       "AAPL    0.25\n",
       "SNI     0.25\n",
       "TJX     0.25\n",
       "ZTS     0.25\n",
       "Name: proportion, dtype: float64"
      ]
     },
     "execution_count": 107,
     "metadata": {},
     "output_type": "execute_result"
    }
   ],
   "source": [
    "data['stock'].value_counts(normalize=True)"
   ]
  },
  {
   "cell_type": "markdown",
   "id": "c4775d14-5101-4641-9a47-0907ab297b46",
   "metadata": {},
   "source": [
    "normalisation why??\n",
    "~to get rid of bias\n",
    "~computational cost will reduce\n"
   ]
  },
  {
   "cell_type": "code",
   "execution_count": 114,
   "id": "0e8efa3e-245a-496c-994b-82112f9a44bd",
   "metadata": {},
   "outputs": [
    {
     "name": "stdout",
     "output_type": "stream",
     "text": [
      "['AAPL' '?' 'SNI' 'TJX' 'ZTS']\n",
      "5\n"
     ]
    }
   ],
   "source": [
    "#unique function\n",
    "print(dataex['stock'].unique())\n",
    "print(dataex['stock'].nunique())"
   ]
  },
  {
   "cell_type": "code",
   "execution_count": 116,
   "id": "47897a24-189f-4aeb-9a83-6800b0ae696b",
   "metadata": {},
   "outputs": [
    {
     "data": {
      "text/plain": [
       "stock\n",
       "SNI     1259\n",
       "TJX     1259\n",
       "ZTS     1259\n",
       "AAPL    1258\n",
       "?          1\n",
       "Name: count, dtype: int64"
      ]
     },
     "execution_count": 116,
     "metadata": {},
     "output_type": "execute_result"
    }
   ],
   "source": [
    "dataex['stock'].value_counts()"
   ]
  },
  {
   "cell_type": "code",
   "execution_count": 118,
   "id": "57e3a2a4-bb8f-4671-b2c0-a0e735ce961c",
   "metadata": {},
   "outputs": [
    {
     "data": {
      "text/plain": [
       "stock\n",
       "SNI     0.250000\n",
       "TJX     0.250000\n",
       "ZTS     0.250000\n",
       "AAPL    0.249801\n",
       "?       0.000199\n",
       "Name: proportion, dtype: float64"
      ]
     },
     "execution_count": 118,
     "metadata": {},
     "output_type": "execute_result"
    }
   ],
   "source": [
    "dataex['stock'].value_counts(normalize=True)"
   ]
  },
  {
   "cell_type": "code",
   "execution_count": 120,
   "id": "bf346072-7040-4b9f-94d2-d8aee1f53473",
   "metadata": {},
   "outputs": [
    {
     "data": {
      "text/plain": [
       "stock    0\n",
       "date     0\n",
       "price    3\n",
       "dtype: int64"
      ]
     },
     "execution_count": 120,
     "metadata": {},
     "output_type": "execute_result"
    }
   ],
   "source": [
    "dataex.isnull().sum()"
   ]
  },
  {
   "cell_type": "code",
   "execution_count": 128,
   "id": "f46b8721-e7d2-45d5-b8ad-ca5569fb0ada",
   "metadata": {},
   "outputs": [
    {
     "name": "stdout",
     "output_type": "stream",
     "text": [
      "73.0604175640771\n",
      "69.09\n",
      "0    74.59\n",
      "Name: price, dtype: float64\n"
     ]
    }
   ],
   "source": [
    "print(dataex['price'].mean())\n",
    "print(dataex['price'].median())\n",
    "print(dataex['price'].mode())"
   ]
  },
  {
   "cell_type": "code",
   "execution_count": 130,
   "id": "b70fa561-6af0-4b30-b22f-9fe27aa1ecb2",
   "metadata": {},
   "outputs": [
    {
     "data": {
      "text/html": [
       "<div>\n",
       "<style scoped>\n",
       "    .dataframe tbody tr th:only-of-type {\n",
       "        vertical-align: middle;\n",
       "    }\n",
       "\n",
       "    .dataframe tbody tr th {\n",
       "        vertical-align: top;\n",
       "    }\n",
       "\n",
       "    .dataframe thead th {\n",
       "        text-align: right;\n",
       "    }\n",
       "</style>\n",
       "<table border=\"1\" class=\"dataframe\">\n",
       "  <thead>\n",
       "    <tr style=\"text-align: right;\">\n",
       "      <th></th>\n",
       "      <th>price</th>\n",
       "    </tr>\n",
       "  </thead>\n",
       "  <tbody>\n",
       "    <tr>\n",
       "      <th>count</th>\n",
       "      <td>5033.000000</td>\n",
       "    </tr>\n",
       "    <tr>\n",
       "      <th>mean</th>\n",
       "      <td>73.060418</td>\n",
       "    </tr>\n",
       "    <tr>\n",
       "      <th>std</th>\n",
       "      <td>29.019434</td>\n",
       "    </tr>\n",
       "    <tr>\n",
       "      <th>min</th>\n",
       "      <td>28.400000</td>\n",
       "    </tr>\n",
       "    <tr>\n",
       "      <th>25%</th>\n",
       "      <td>54.030000</td>\n",
       "    </tr>\n",
       "    <tr>\n",
       "      <th>50%</th>\n",
       "      <td>69.090000</td>\n",
       "    </tr>\n",
       "    <tr>\n",
       "      <th>75%</th>\n",
       "      <td>79.250000</td>\n",
       "    </tr>\n",
       "    <tr>\n",
       "      <th>max</th>\n",
       "      <td>179.260000</td>\n",
       "    </tr>\n",
       "  </tbody>\n",
       "</table>\n",
       "</div>"
      ],
      "text/plain": [
       "             price\n",
       "count  5033.000000\n",
       "mean     73.060418\n",
       "std      29.019434\n",
       "min      28.400000\n",
       "25%      54.030000\n",
       "50%      69.090000\n",
       "75%      79.250000\n",
       "max     179.260000"
      ]
     },
     "execution_count": 130,
     "metadata": {},
     "output_type": "execute_result"
    }
   ],
   "source": [
    "dataex.describe()"
   ]
  },
  {
   "cell_type": "code",
   "execution_count": 136,
   "id": "49f475de-b913-436d-aa6c-4ccc0188c8f8",
   "metadata": {},
   "outputs": [
    {
     "data": {
      "text/plain": [
       "stock\n",
       "AAPL    137314.9734\n",
       "SNI      89790.8800\n",
       "TJX      84030.1500\n",
       "ZTS      56779.1980\n",
       "Name: price, dtype: float64"
      ]
     },
     "execution_count": 136,
     "metadata": {},
     "output_type": "execute_result"
    }
   ],
   "source": [
    "#group by function\n",
    "data.groupby(['stock'])['price'].sum()"
   ]
  },
  {
   "cell_type": "code",
   "execution_count": 138,
   "id": "1df546e6-277d-4023-bb6c-799632420ffd",
   "metadata": {},
   "outputs": [
    {
     "data": {
      "text/plain": [
       "stock\n",
       "AAPL    109.066698\n",
       "SNI      71.319206\n",
       "TJX      66.743566\n",
       "ZTS      45.098648\n",
       "Name: price, dtype: float64"
      ]
     },
     "execution_count": 138,
     "metadata": {},
     "output_type": "execute_result"
    }
   ],
   "source": [
    "data.groupby(['stock'])['price'].mean()"
   ]
  },
  {
   "cell_type": "code",
   "execution_count": 152,
   "id": "8dc5c796-448d-41e0-89ad-67194b0f4706",
   "metadata": {},
   "outputs": [
    {
     "data": {
      "text/html": [
       "<div>\n",
       "<style scoped>\n",
       "    .dataframe tbody tr th:only-of-type {\n",
       "        vertical-align: middle;\n",
       "    }\n",
       "\n",
       "    .dataframe tbody tr th {\n",
       "        vertical-align: top;\n",
       "    }\n",
       "\n",
       "    .dataframe thead th {\n",
       "        text-align: right;\n",
       "    }\n",
       "</style>\n",
       "<table border=\"1\" class=\"dataframe\">\n",
       "  <thead>\n",
       "    <tr style=\"text-align: right;\">\n",
       "      <th></th>\n",
       "      <th>stock</th>\n",
       "      <th>date</th>\n",
       "      <th>price</th>\n",
       "    </tr>\n",
       "  </thead>\n",
       "  <tbody>\n",
       "    <tr>\n",
       "      <th>1244</th>\n",
       "      <td>AAPL</td>\n",
       "      <td>18-01-2018</td>\n",
       "      <td>179.26</td>\n",
       "    </tr>\n",
       "    <tr>\n",
       "      <th>1243</th>\n",
       "      <td>AAPL</td>\n",
       "      <td>17-01-2018</td>\n",
       "      <td>179.10</td>\n",
       "    </tr>\n",
       "    <tr>\n",
       "      <th>1245</th>\n",
       "      <td>AAPL</td>\n",
       "      <td>19-01-2018</td>\n",
       "      <td>178.46</td>\n",
       "    </tr>\n",
       "    <tr>\n",
       "      <th>1241</th>\n",
       "      <td>AAPL</td>\n",
       "      <td>12-01-2018</td>\n",
       "      <td>177.09</td>\n",
       "    </tr>\n",
       "    <tr>\n",
       "      <th>1247</th>\n",
       "      <td>AAPL</td>\n",
       "      <td>23-01-2018</td>\n",
       "      <td>177.04</td>\n",
       "    </tr>\n",
       "    <tr>\n",
       "      <th>...</th>\n",
       "      <td>...</td>\n",
       "      <td>...</td>\n",
       "      <td>...</td>\n",
       "    </tr>\n",
       "    <tr>\n",
       "      <th>4076</th>\n",
       "      <td>ZTS</td>\n",
       "      <td>17-04-2014</td>\n",
       "      <td>28.60</td>\n",
       "    </tr>\n",
       "    <tr>\n",
       "      <th>4074</th>\n",
       "      <td>ZTS</td>\n",
       "      <td>15-04-2014</td>\n",
       "      <td>28.55</td>\n",
       "    </tr>\n",
       "    <tr>\n",
       "      <th>4075</th>\n",
       "      <td>ZTS</td>\n",
       "      <td>16-04-2014</td>\n",
       "      <td>28.53</td>\n",
       "    </tr>\n",
       "    <tr>\n",
       "      <th>4073</th>\n",
       "      <td>ZTS</td>\n",
       "      <td>14-04-2014</td>\n",
       "      <td>28.48</td>\n",
       "    </tr>\n",
       "    <tr>\n",
       "      <th>4072</th>\n",
       "      <td>ZTS</td>\n",
       "      <td>11-04-2014</td>\n",
       "      <td>28.40</td>\n",
       "    </tr>\n",
       "  </tbody>\n",
       "</table>\n",
       "<p>5036 rows × 3 columns</p>\n",
       "</div>"
      ],
      "text/plain": [
       "     stock        date   price\n",
       "1244  AAPL  18-01-2018  179.26\n",
       "1243  AAPL  17-01-2018  179.10\n",
       "1245  AAPL  19-01-2018  178.46\n",
       "1241  AAPL  12-01-2018  177.09\n",
       "1247  AAPL  23-01-2018  177.04\n",
       "...    ...         ...     ...\n",
       "4076   ZTS  17-04-2014   28.60\n",
       "4074   ZTS  15-04-2014   28.55\n",
       "4075   ZTS  16-04-2014   28.53\n",
       "4073   ZTS  14-04-2014   28.48\n",
       "4072   ZTS  11-04-2014   28.40\n",
       "\n",
       "[5036 rows x 3 columns]"
      ]
     },
     "execution_count": 152,
     "metadata": {},
     "output_type": "execute_result"
    }
   ],
   "source": [
    "data.sort_values(by='price', ascending=False)"
   ]
  },
  {
   "cell_type": "code",
   "execution_count": null,
   "id": "17d82673-ab71-4f20-aed4-21cbe0154299",
   "metadata": {},
   "outputs": [],
   "source": []
  },
  {
   "cell_type": "code",
   "execution_count": null,
   "id": "9101aabe-26b5-4354-a579-46c9da9ea567",
   "metadata": {},
   "outputs": [],
   "source": []
  },
  {
   "cell_type": "code",
   "execution_count": null,
   "id": "a14da721-a04c-4a9b-bb7b-537d1f2b14b3",
   "metadata": {},
   "outputs": [],
   "source": []
  },
  {
   "cell_type": "code",
   "execution_count": null,
   "id": "d4e5854c-14e6-465e-b99d-003bbe76f775",
   "metadata": {},
   "outputs": [],
   "source": []
  },
  {
   "cell_type": "code",
   "execution_count": null,
   "id": "462f3bdf-d61b-4e66-b6db-ebb062797219",
   "metadata": {},
   "outputs": [],
   "source": []
  },
  {
   "cell_type": "code",
   "execution_count": null,
   "id": "3c34308a-9527-41cb-b10e-7d66dfa1be41",
   "metadata": {},
   "outputs": [],
   "source": []
  },
  {
   "cell_type": "code",
   "execution_count": null,
   "id": "c5ca27f3-1a61-41d7-ae83-4a1e66ba0d77",
   "metadata": {},
   "outputs": [],
   "source": []
  },
  {
   "cell_type": "code",
   "execution_count": null,
   "id": "c2c32e47-c8d2-42a6-b7c3-a4f22580cf6b",
   "metadata": {},
   "outputs": [],
   "source": []
  }
 ],
 "metadata": {
  "kernelspec": {
   "display_name": "Python [conda env:base] *",
   "language": "python",
   "name": "conda-base-py"
  },
  "language_info": {
   "codemirror_mode": {
    "name": "ipython",
    "version": 3
   },
   "file_extension": ".py",
   "mimetype": "text/x-python",
   "name": "python",
   "nbconvert_exporter": "python",
   "pygments_lexer": "ipython3",
   "version": "3.12.7"
  }
 },
 "nbformat": 4,
 "nbformat_minor": 5
}
